{
 "cells": [
  {
   "cell_type": "code",
   "execution_count": 1,
   "id": "85b8c2ed",
   "metadata": {},
   "outputs": [],
   "source": [
    "import numpy as np\n",
    "import pandas as pd\n",
    "import cv2"
   ]
  },
  {
   "cell_type": "code",
   "execution_count": 19,
   "id": "cbe4eed5",
   "metadata": {},
   "outputs": [
    {
     "name": "stdout",
     "output_type": "stream",
     "text": [
      "(163300, 3)\n"
     ]
    }
   ],
   "source": [
    "img = cv2.imread('../datasets/cat.jpg')\n",
    "color = [0, 0, 0] # 'cause purple!\n",
    "\n",
    "# border widths; I set them all to 150\n",
    "top, bottom, left, right = [20]*4\n",
    "\n",
    "img_with_border = cv2.copyMakeBorder(img, top, bottom, left, right, cv2.BORDER_CONSTANT, value=color)\n",
    "#cv2.imshow('Bordere0d Image',img_with_border)\n",
    "\n",
    "imageToMatrice = np.asarray(img_with_border)\n",
    " \n",
    "#print(imageToMatrice)\n",
    "\n",
    "new_img = imageToMatrice.reshape((imageToMatrice.shape[0] * imageToMatrice.shape[1]),imageToMatrice.shape[2])\n",
    "print(new_img.shape)\n",
    "\n",
    "df = pd.DataFrame(new_img)\n",
    "df.columns = ['c1', 'c2', 'c3'];\n",
    "df.to_csv('output.csv', index=False)\n",
    "\n",
    "# cv2.waitKey(0)\n",
    "# cv2.destroyAllWindows()"
   ]
  }
 ],
 "metadata": {
  "kernelspec": {
   "display_name": "Python 3 (ipykernel)",
   "language": "python",
   "name": "python3"
  },
  "language_info": {
   "codemirror_mode": {
    "name": "ipython",
    "version": 3
   },
   "file_extension": ".py",
   "mimetype": "text/x-python",
   "name": "python",
   "nbconvert_exporter": "python",
   "pygments_lexer": "ipython3",
   "version": "3.9.12"
  }
 },
 "nbformat": 4,
 "nbformat_minor": 5
}
