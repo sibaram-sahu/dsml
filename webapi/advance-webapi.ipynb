{
 "cells": [
  {
   "cell_type": "code",
   "execution_count": 10,
   "id": "5ee9a89a",
   "metadata": {},
   "outputs": [],
   "source": [
    "import requests\n",
    "from bs4 import BeautifulSoup"
   ]
  },
  {
   "cell_type": "code",
   "execution_count": 36,
   "id": "a164420a",
   "metadata": {},
   "outputs": [],
   "source": [
    "baseurl = \"http://books.toscrape.com\"\n",
    "\n",
    "def extract_categories(baseurl):\n",
    "    categories = {}\n",
    "    r = requests.get(baseurl)\n",
    "    soup = BeautifulSoup(r.content)\n",
    "    categories_list = soup.find(\"ul\", class_=\"nav nav-list\").ul.find_all('li')\n",
    "    \n",
    "    for li in categories_list:\n",
    "        categories.update({li.find(\"a\").text.strip(): baseurl+ li.find(\"a\")['href']})\n",
    "\n",
    "    return categories"
   ]
  },
  {
   "cell_type": "code",
   "execution_count": 37,
   "id": "9e9e581e",
   "metadata": {},
   "outputs": [
    {
     "data": {
      "text/plain": [
       "{'Travel': 'http://books.toscrape.comcatalogue/category/books/travel_2/index.html',\n",
       " 'Mystery': 'http://books.toscrape.comcatalogue/category/books/mystery_3/index.html',\n",
       " 'Historical Fiction': 'http://books.toscrape.comcatalogue/category/books/historical-fiction_4/index.html',\n",
       " 'Sequential Art': 'http://books.toscrape.comcatalogue/category/books/sequential-art_5/index.html',\n",
       " 'Classics': 'http://books.toscrape.comcatalogue/category/books/classics_6/index.html',\n",
       " 'Philosophy': 'http://books.toscrape.comcatalogue/category/books/philosophy_7/index.html',\n",
       " 'Romance': 'http://books.toscrape.comcatalogue/category/books/romance_8/index.html',\n",
       " 'Womens Fiction': 'http://books.toscrape.comcatalogue/category/books/womens-fiction_9/index.html',\n",
       " 'Fiction': 'http://books.toscrape.comcatalogue/category/books/fiction_10/index.html',\n",
       " 'Childrens': 'http://books.toscrape.comcatalogue/category/books/childrens_11/index.html',\n",
       " 'Religion': 'http://books.toscrape.comcatalogue/category/books/religion_12/index.html',\n",
       " 'Nonfiction': 'http://books.toscrape.comcatalogue/category/books/nonfiction_13/index.html',\n",
       " 'Music': 'http://books.toscrape.comcatalogue/category/books/music_14/index.html',\n",
       " 'Default': 'http://books.toscrape.comcatalogue/category/books/default_15/index.html',\n",
       " 'Science Fiction': 'http://books.toscrape.comcatalogue/category/books/science-fiction_16/index.html',\n",
       " 'Sports and Games': 'http://books.toscrape.comcatalogue/category/books/sports-and-games_17/index.html',\n",
       " 'Add a comment': 'http://books.toscrape.comcatalogue/category/books/add-a-comment_18/index.html',\n",
       " 'Fantasy': 'http://books.toscrape.comcatalogue/category/books/fantasy_19/index.html',\n",
       " 'New Adult': 'http://books.toscrape.comcatalogue/category/books/new-adult_20/index.html',\n",
       " 'Young Adult': 'http://books.toscrape.comcatalogue/category/books/young-adult_21/index.html',\n",
       " 'Science': 'http://books.toscrape.comcatalogue/category/books/science_22/index.html',\n",
       " 'Poetry': 'http://books.toscrape.comcatalogue/category/books/poetry_23/index.html',\n",
       " 'Paranormal': 'http://books.toscrape.comcatalogue/category/books/paranormal_24/index.html',\n",
       " 'Art': 'http://books.toscrape.comcatalogue/category/books/art_25/index.html',\n",
       " 'Psychology': 'http://books.toscrape.comcatalogue/category/books/psychology_26/index.html',\n",
       " 'Autobiography': 'http://books.toscrape.comcatalogue/category/books/autobiography_27/index.html',\n",
       " 'Parenting': 'http://books.toscrape.comcatalogue/category/books/parenting_28/index.html',\n",
       " 'Adult Fiction': 'http://books.toscrape.comcatalogue/category/books/adult-fiction_29/index.html',\n",
       " 'Humor': 'http://books.toscrape.comcatalogue/category/books/humor_30/index.html',\n",
       " 'Horror': 'http://books.toscrape.comcatalogue/category/books/horror_31/index.html',\n",
       " 'History': 'http://books.toscrape.comcatalogue/category/books/history_32/index.html',\n",
       " 'Food and Drink': 'http://books.toscrape.comcatalogue/category/books/food-and-drink_33/index.html',\n",
       " 'Christian Fiction': 'http://books.toscrape.comcatalogue/category/books/christian-fiction_34/index.html',\n",
       " 'Business': 'http://books.toscrape.comcatalogue/category/books/business_35/index.html',\n",
       " 'Biography': 'http://books.toscrape.comcatalogue/category/books/biography_36/index.html',\n",
       " 'Thriller': 'http://books.toscrape.comcatalogue/category/books/thriller_37/index.html',\n",
       " 'Contemporary': 'http://books.toscrape.comcatalogue/category/books/contemporary_38/index.html',\n",
       " 'Spirituality': 'http://books.toscrape.comcatalogue/category/books/spirituality_39/index.html',\n",
       " 'Academic': 'http://books.toscrape.comcatalogue/category/books/academic_40/index.html',\n",
       " 'Self Help': 'http://books.toscrape.comcatalogue/category/books/self-help_41/index.html',\n",
       " 'Historical': 'http://books.toscrape.comcatalogue/category/books/historical_42/index.html',\n",
       " 'Christian': 'http://books.toscrape.comcatalogue/category/books/christian_43/index.html',\n",
       " 'Suspense': 'http://books.toscrape.comcatalogue/category/books/suspense_44/index.html',\n",
       " 'Short Stories': 'http://books.toscrape.comcatalogue/category/books/short-stories_45/index.html',\n",
       " 'Novels': 'http://books.toscrape.comcatalogue/category/books/novels_46/index.html',\n",
       " 'Health': 'http://books.toscrape.comcatalogue/category/books/health_47/index.html',\n",
       " 'Politics': 'http://books.toscrape.comcatalogue/category/books/politics_48/index.html',\n",
       " 'Cultural': 'http://books.toscrape.comcatalogue/category/books/cultural_49/index.html',\n",
       " 'Erotica': 'http://books.toscrape.comcatalogue/category/books/erotica_50/index.html',\n",
       " 'Crime': 'http://books.toscrape.comcatalogue/category/books/crime_51/index.html'}"
      ]
     },
     "execution_count": 37,
     "metadata": {},
     "output_type": "execute_result"
    }
   ],
   "source": [
    "extract_categories(baseurl)"
   ]
  },
  {
   "cell_type": "code",
   "execution_count": null,
   "id": "94f58e36",
   "metadata": {},
   "outputs": [],
   "source": []
  }
 ],
 "metadata": {
  "kernelspec": {
   "display_name": "Python 3 (ipykernel)",
   "language": "python",
   "name": "python3"
  },
  "language_info": {
   "codemirror_mode": {
    "name": "ipython",
    "version": 3
   },
   "file_extension": ".py",
   "mimetype": "text/x-python",
   "name": "python",
   "nbconvert_exporter": "python",
   "pygments_lexer": "ipython3",
   "version": "3.9.12"
  }
 },
 "nbformat": 4,
 "nbformat_minor": 5
}
