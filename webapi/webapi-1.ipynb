{
 "cells": [
  {
   "cell_type": "markdown",
   "id": "f8fddcbc",
   "metadata": {},
   "source": [
    "# Web API"
   ]
  },
  {
   "cell_type": "code",
   "execution_count": 13,
   "id": "8a1f774a",
   "metadata": {},
   "outputs": [],
   "source": [
    "import requests\n",
    "import json\n",
    "import tweepy"
   ]
  },
  {
   "cell_type": "code",
   "execution_count": 4,
   "id": "466c3bb9",
   "metadata": {},
   "outputs": [],
   "source": [
    "# api.ipify.org"
   ]
  },
  {
   "cell_type": "code",
   "execution_count": 5,
   "id": "e9008ba6",
   "metadata": {},
   "outputs": [],
   "source": [
    "url = \"https://api.ipify.org\";"
   ]
  },
  {
   "cell_type": "code",
   "execution_count": 9,
   "id": "31390ea5",
   "metadata": {},
   "outputs": [
    {
     "data": {
      "text/plain": [
       "200"
      ]
     },
     "execution_count": 9,
     "metadata": {},
     "output_type": "execute_result"
    }
   ],
   "source": [
    "response = requests.get(url)\n",
    "response.status_code"
   ]
  },
  {
   "cell_type": "code",
   "execution_count": 10,
   "id": "d64ec495",
   "metadata": {},
   "outputs": [
    {
     "data": {
      "text/plain": [
       "'49.207.195.27'"
      ]
     },
     "execution_count": 10,
     "metadata": {},
     "output_type": "execute_result"
    }
   ],
   "source": [
    "response.text"
   ]
  },
  {
   "cell_type": "code",
   "execution_count": 12,
   "id": "2721c178",
   "metadata": {},
   "outputs": [
    {
     "data": {
      "text/plain": [
       "{'Server': 'Cowboy', 'Connection': 'keep-alive', 'Content-Type': 'text/plain', 'Vary': 'Origin', 'Date': 'Mon, 26 Sep 2022 17:18:55 GMT', 'Content-Length': '13', 'Via': '1.1 vegur'}"
      ]
     },
     "execution_count": 12,
     "metadata": {},
     "output_type": "execute_result"
    }
   ],
   "source": [
    "response.headers"
   ]
  },
  {
   "cell_type": "markdown",
   "id": "62fe5743",
   "metadata": {},
   "source": [
    "# Tweepy"
   ]
  },
  {
   "cell_type": "code",
   "execution_count": null,
   "id": "9142d10e",
   "metadata": {},
   "outputs": [],
   "source": []
  }
 ],
 "metadata": {
  "kernelspec": {
   "display_name": "Python 3 (ipykernel)",
   "language": "python",
   "name": "python3"
  },
  "language_info": {
   "codemirror_mode": {
    "name": "ipython",
    "version": 3
   },
   "file_extension": ".py",
   "mimetype": "text/x-python",
   "name": "python",
   "nbconvert_exporter": "python",
   "pygments_lexer": "ipython3",
   "version": "3.9.12"
  }
 },
 "nbformat": 4,
 "nbformat_minor": 5
}
